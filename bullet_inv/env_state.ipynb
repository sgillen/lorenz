{
 "cells": [
  {
   "cell_type": "code",
   "execution_count": 1,
   "metadata": {},
   "outputs": [
    {
     "name": "stderr",
     "output_type": "stream",
     "text": [
      "WARNING: Overriding pythran description with argspec information for: numpy.concatenate\n",
      "WARNING: Overriding pythran description with argspec information for: numpy.empty_like\n"
     ]
    },
    {
     "name": "stdout",
     "output_type": "stream",
     "text": [
      "running build_ext\n"
     ]
    }
   ],
   "source": [
    "import gym\n",
    "import numpy as np\n",
    "\n",
    "env = gym.make(\"Walker2d-v2\")\n",
    "qpos = env.env.sim.data.qpos\n",
    "qvel = env.env.sim.data.qvel\n",
    "\n",
    "#qpos[1] = 5\n",
    "\n",
    "#env.env.set_state(qpos, qvel)\n"
   ]
  },
  {
   "cell_type": "code",
   "execution_count": 3,
   "metadata": {},
   "outputs": [
    {
     "name": "stdout",
     "output_type": "stream",
     "text": [
      "Creating window glfw\n",
      "212\n"
     ]
    }
   ],
   "source": [
    "env.reset()\n",
    "count = 0\n",
    "while True:\n",
    "    obs, rews, done, _ = env.step(np.random.random(6))\n",
    "    env.render()\n",
    "    \n",
    "    count+=1\n",
    "    \n",
    "    if done:\n",
    "        break\n",
    "\n",
    "print(count)"
   ]
  },
  {
   "cell_type": "code",
   "execution_count": 1,
   "metadata": {},
   "outputs": [],
   "source": [
    "import gym\n",
    "import numpy as np\n",
    "import pybullet as p\n",
    "import pybullet_data\n",
    "\n",
    "p.connect(p.GUI)\n",
    "#plane_id = p.loadURDF(pybullet_data.getDataPath() + \"/plane.urdf\")\n",
    "plane_id = p.loadSDF(pybullet_data.getDataPath() + \"/plane_stadium.sdf\")[0]\n",
    "walker_id = p.loadMJCF(pybullet_data.getDataPath() + \"/mjcf/walker2d.xml\", flags=p.URDF_USE_SELF_COLLISION | p.URDF_USE_SELF_COLLISION_EXCLUDE_ALL_PARENTS)[0]\n",
    "\n",
    "\n",
    "q = p.getQuaternionFromEuler([0,1,0])\n",
    "p.resetBasePositionAndOrientation(walker_id, [0,0,0],q)"
   ]
  },
  {
   "cell_type": "code",
   "execution_count": 2,
   "metadata": {},
   "outputs": [],
   "source": [
    "v = p.getBaseVelocity(walker_id)"
   ]
  },
  {
   "cell_type": "code",
   "execution_count": 4,
   "metadata": {},
   "outputs": [
    {
     "data": {
      "text/plain": [
       "\u001b[0;31mDocstring:\u001b[0m\n",
       "stepSimulation(physicsClientId=0)\n",
       "Step the simulation using forward dynamics.\n",
       "\u001b[0;31mType:\u001b[0m      builtin_function_or_method\n"
      ]
     },
     "metadata": {},
     "output_type": "display_data"
    }
   ],
   "source": [
    "p.stepSimulation??"
   ]
  },
  {
   "cell_type": "code",
   "execution_count": 1,
   "metadata": {},
   "outputs": [
    {
     "name": "stderr",
     "output_type": "stream",
     "text": [
      "/home/sgillen/work/seagul/seagul/envs/__init__.py:52: UserWarning: Warning, pybullet envs not installed\n",
      "  warnings.warn(\"Warning, pybullet envs not installed\")\n"
     ]
    }
   ],
   "source": [
    "import gym\n",
    "import seagul.envs\n",
    "import pybullet as p\n",
    "import numpy as np\n",
    "env = gym.make(\"pbmj_walker2d-v0\", render=True)"
   ]
  },
  {
   "cell_type": "code",
   "execution_count": 2,
   "metadata": {},
   "outputs": [
    {
     "name": "stdout",
     "output_type": "stream",
     "text": [
      "(0.0, 0.0013828652215833028, 0.0)\n",
      "[ 1.24511808e+00 -1.07631100e-03  2.33823849e-03  1.56455565e-03\n",
      " -1.37482590e-03  2.28421160e-03  9.41600716e-04  4.83920507e-03\n",
      "  0.00000000e+00  6.61224054e-04  2.58915982e-03  4.41220248e-03\n",
      "  1.90722773e-03 -4.27102862e-03  7.74008514e-04 -3.96732386e-03\n",
      "  1.37016999e-03]\n",
      "81\n",
      "[ 7.81497498e-01  9.22660773e-01 -1.64405440e-04  5.27011913e-05\n",
      "  7.85572861e-01 -1.89069150e-04  1.91649599e-05  7.85465668e-01\n",
      "  0.00000000e+00 -2.08358398e+00  2.87330401e+00 -3.33527458e-02\n",
      " -5.54455824e-04  9.30487467e-04 -3.24127477e-02 -1.71914812e-03\n",
      " -1.12949886e-03]\n"
     ]
    }
   ],
   "source": [
    "import time\n",
    "\n",
    "\n",
    "obs0 = env.reset()\n",
    "count = 0\n",
    "\n",
    "a = p.getBasePositionAndOrientation(1)\n",
    "print(p.getEulerFromQuaternion(a[1]))\n",
    "\n",
    "print(obs0)\n",
    "\n",
    "while True:\n",
    "    obs, rews, done, _ = env.step(np.random.random(6))\n",
    "    \n",
    "    count+=1\n",
    "    \n",
    "    #time.sleep(.02)\n",
    "    \n",
    "    #print(\"base: \", p.getEulerFromQuaternion(p.getBasePositionAndOrientation(1)[1]))   \n",
    "    #print(\"l0: \", p.getEulerFromQuaternion(p.getLinkState(1,0)[1]))\n",
    "    #print(\"l0 rel: \", p.getEulerFromQuaternion(p.getLinkState(1,0)[3]))\n",
    "    #print(\"l0 world: \", p.getEulerFromQuaternion(p.getLinkState(1,0)[5]))\n",
    "    \n",
    "    #print(\"basep: \", p.getBasePositionAndOrientation(1)[0])  \n",
    "    #print(\"base: \", p.getEulerFromQuaternion(p.getBasePositionAndOrientation(1)[1]))   \n",
    "    #print(\"l0p: \", p.getLinkState(1,3)[0])\n",
    "    #print(\"l0: \", p.getEulerFromQuaternion(p.getLinkState(1,3)[1]))\n",
    "    #print(\"l0 rel: \", p.getEulerFromQuaternion(p.getLinkState(1,3)[3]))\n",
    "    #print(\"l0 world: \", p.getEulerFromQuaternion(p.getLinkState(1,3)[5]))\n",
    "    \n",
    "    \n",
    "    #print(p.getLinkInfo(1,4))\n",
    "     \n",
    "    if done:\n",
    "        break\n",
    "\n",
    "print(count)\n",
    "print(obs)"
   ]
  },
  {
   "cell_type": "code",
   "execution_count": 11,
   "metadata": {},
   "outputs": [
    {
     "data": {
      "text/plain": [
       "17"
      ]
     },
     "execution_count": 11,
     "metadata": {},
     "output_type": "execute_result"
    }
   ],
   "source": [
    "len(obs0)"
   ]
  },
  {
   "cell_type": "code",
   "execution_count": 6,
   "metadata": {},
   "outputs": [
    {
     "data": {
      "text/plain": [
       "array([ 4.99895572e-02,  1.57079633e+00, -3.32491441e-03, -3.94391589e-01,\n",
       "        7.85468980e-01, -2.31421902e-06, -4.01681622e-01,  7.85034891e-01,\n",
       "        0.00000000e+00,  1.37181646e-04,  7.18780409e-04,  7.43294105e-02,\n",
       "       -1.60857872e-01, -1.58239434e-02,  9.82724075e-02, -2.10003190e-01,\n",
       "        1.47281225e-02])"
      ]
     },
     "execution_count": 6,
     "metadata": {},
     "output_type": "execute_result"
    }
   ],
   "source": [
    "obs"
   ]
  },
  {
   "cell_type": "code",
   "execution_count": 23,
   "metadata": {},
   "outputs": [],
   "source": [
    "p.resetBasePositionAndOrientation(1,[0,0,0],a[1])"
   ]
  },
  {
   "cell_type": "code",
   "execution_count": 14,
   "metadata": {},
   "outputs": [
    {
     "name": "stdout",
     "output_type": "stream",
     "text": [
      "(-0.0, 0.01560315752812058, -0.0)\n"
     ]
    }
   ],
   "source": [
    "a = p.getBasePositionAndOrientation(1)\n",
    "print(p.getEulerFromQuaternion(a[1]))"
   ]
  },
  {
   "cell_type": "code",
   "execution_count": 83,
   "metadata": {},
   "outputs": [],
   "source": [
    "init_ang = [0,1,0]\n",
    "init_q = p.getQuaternionFromEuler(init_ang)\n",
    "p.resetBasePositionAndOrientation(1,[0,0,0],init_q)"
   ]
  },
  {
   "cell_type": "code",
   "execution_count": 53,
   "metadata": {},
   "outputs": [
    {
     "name": "stdout",
     "output_type": "stream",
     "text": [
      "(-0.0, 0.0007866770294784229, -0.0)\n"
     ]
    }
   ],
   "source": []
  },
  {
   "cell_type": "code",
   "execution_count": 8,
   "metadata": {},
   "outputs": [
    {
     "data": {
      "text/plain": [
       "array([ 1.24841934e+00,  4.08904813e-03,  1.27563917e-03,  2.43279922e-03,\n",
       "        4.47531015e-03, -8.72511853e-04, -2.90380373e-03, -4.44951630e-03,\n",
       "        0.00000000e+00, -1.98403773e-03, -1.03553509e-03,  1.76470424e-03,\n",
       "        2.89098371e-03, -2.80678098e-03, -7.98843190e-04,  9.94296779e-04,\n",
       "        6.09929658e-04])"
      ]
     },
     "execution_count": 8,
     "metadata": {},
     "output_type": "execute_result"
    }
   ],
   "source": [
    "env.reset()"
   ]
  },
  {
   "cell_type": "code",
   "execution_count": 84,
   "metadata": {},
   "outputs": [
    {
     "name": "stdout",
     "output_type": "stream",
     "text": [
      "base:  (0.0, 1.0, 0.0)\n",
      "l0:  (3.141592653589793, 0.5365822148021321, 3.141592653589793)\n"
     ]
    }
   ],
   "source": [
    "print(\"base: \", p.getEulerFromQuaternion(p.getBasePositionAndOrientation(1)[1]))   \n",
    "print(\"l0: \", p.getEulerFromQuaternion(p.getLinkState(1,3)[1]))"
   ]
  },
  {
   "cell_type": "code",
   "execution_count": null,
   "metadata": {},
   "outputs": [],
   "source": []
  }
 ],
 "metadata": {
  "kernelspec": {
   "display_name": "Baselines (3.6)",
   "language": "python",
   "name": "baselines"
  },
  "language_info": {
   "codemirror_mode": {
    "name": "ipython",
    "version": 3
   },
   "file_extension": ".py",
   "mimetype": "text/x-python",
   "name": "python",
   "nbconvert_exporter": "python",
   "pygments_lexer": "ipython3",
   "version": "3.6.8"
  }
 },
 "nbformat": 4,
 "nbformat_minor": 4
}
