{
 "cells": [
  {
   "cell_type": "code",
   "execution_count": 1,
   "metadata": {},
   "outputs": [
    {
     "name": "stderr",
     "output_type": "stream",
     "text": [
      "/home/sgillen/work/seagul/seagul/envs/__init__.py:52: UserWarning: Warning, pybullet envs not installed\n",
      "  warnings.warn(\"Warning, pybullet envs not installed\")\n",
      "/home/sgillen/work/seagul/seagul/envs/__init__.py:128: UserWarning: Warning, rllib environments not registered\n",
      "  warnings.warn(\"Warning, rllib environments not registered\")\n"
     ]
    }
   ],
   "source": [
    "import seagul.envs\n",
    "import gym\n",
    "#from stable_baselines.common import make_vec_env\n",
    "import pybulletgym\n",
    "import pybullet as p\n",
    "\n",
    "\n",
    "\n",
    "physics_params = {\n",
    "    'fixedTimeStep': 0.002,\n",
    "    'numSubSteps': 0,\n",
    "    'numSolverIterations': 50,\n",
    "    'useSplitImpulse': 1,\n",
    "    'splitImpulsePenetrationThreshold': -0.03999999910593033,\n",
    "    'contactBreakingThreshold': 0.02,\n",
    "    'collisionFilterMode': 1,\n",
    "    'enableFileCaching': 1,\n",
    "    'restitutionVelocityThreshold': 0.20000000298023224,\n",
    "    'erp': 0.0,\n",
    "    'frictionERP': 0.0,\n",
    "    'contactERP': 0.0,\n",
    "    'globalCFM': 0.0,\n",
    "    'enableConeFriction': 0,\n",
    "    'deterministicOverlappingPairs': 1,\n",
    "    'allowedCcdPenetration': 0.04,\n",
    "    'jointFeedbackMode': 0,\n",
    "    'solverResidualThreshold': 1e-07,\n",
    "    'contactSlop': 1e-05,\n",
    "    'enableSAT': 0,\n",
    "    'constraintSolverType': 0,\n",
    "    'reportSolverAnalytics': 1,\n",
    "}\n",
    "\n",
    "\n",
    "dynamics_params = {\n",
    "    'lateralFriction': 0.9,\n",
    "    'restitution': 0.0,\n",
    "    'rollingFriction': 0.0,\n",
    "    'spinningFriction': 0.0,\n",
    "    'contactDamping': -1.0,\n",
    "    'contactStiffness': -1.0,\n",
    "    'collisionMargin': 0.0,\n",
    "    'angularDamping': 0.0,\n",
    "    'linearDamping': 0.0,\n",
    "    'jointDamping' : .1\n",
    "}\n"
   ]
  },
  {
   "cell_type": "code",
   "execution_count": 2,
   "metadata": {},
   "outputs": [],
   "source": [
    "env = gym.make(\"pbmj_walker2d-v0\", dynamics_params=dynamics_params, physics_params=physics_params)"
   ]
  },
  {
   "cell_type": "code",
   "execution_count": 10,
   "metadata": {},
   "outputs": [],
   "source": [
    "env_config = {\"physics_params\":physics_params, \"dynamics_params\":dynamics_params}\n",
    "env = make_vec_env(seagul.envs.bullet.PBMJWalker2dEnv, n_envs=4, monitor_dir=\"./tmp/\", env_kwargs = env_config)\n"
   ]
  },
  {
   "cell_type": "code",
   "execution_count": 2,
   "metadata": {},
   "outputs": [
    {
     "name": "stdout",
     "output_type": "stream",
     "text": [
      "WalkerBase::__init__\n"
     ]
    },
    {
     "data": {
      "text/plain": [
       "array([-0.06908625, -0.06378701,  0.01565202, -0.03305906,  0.05977882,\n",
       "        0.0166561 ,  0.00207284,  0.07903475,  0.        ,  0.        ,\n",
       "        0.        ,  0.        ,  0.        ,  0.        ,  0.        ,\n",
       "        0.        ,  0.        ], dtype=float32)"
      ]
     },
     "execution_count": 2,
     "metadata": {},
     "output_type": "execute_result"
    }
   ],
   "source": [
    "env = gym.make(\"Walker2DMuJoCoEnv-v0\") \n",
    "env.reset()"
   ]
  },
  {
   "cell_type": "code",
   "execution_count": 3,
   "metadata": {},
   "outputs": [
    {
     "data": {
      "text/plain": [
       "{'fixedTimeStep': 0.0165,\n",
       " 'numSubSteps': 4,\n",
       " 'numSolverIterations': 5,\n",
       " 'useRealTimeSimulation': 0,\n",
       " 'gravityAccelerationX': 0.0,\n",
       " 'gravityAccelerationY': 0.0,\n",
       " 'gravityAccelerationZ': -9.8,\n",
       " 'simulationTimestamp': 0.0,\n",
       " 'warmStartingFactor': 0.0,\n",
       " 'articulatedWarmStartingFactor': 0.0,\n",
       " 'useSplitImpulse': 1,\n",
       " 'splitImpulsePenetrationThreshold': -0.03999999910593033,\n",
       " 'contactBreakingThreshold': 0.02,\n",
       " 'internalSimFlags': 0,\n",
       " 'defaultContactERP': 0.9,\n",
       " 'collisionFilterMode': 1,\n",
       " 'enableFileCaching': 1,\n",
       " 'restitutionVelocityThreshold': 0.20000000298023224,\n",
       " 'defaultNonContactERP': 0.2,\n",
       " 'frictionERP': 0.2,\n",
       " 'defaultGlobalCFM': 0.0,\n",
       " 'frictionCFM': 0.0,\n",
       " 'enableConeFriction': 1,\n",
       " 'deterministicOverlappingPairs': 0,\n",
       " 'allowedCcdPenetration': 0.04,\n",
       " 'jointFeedbackMode': 0,\n",
       " 'solverResidualThreshold': 1e-07,\n",
       " 'contactSlop': 1e-05,\n",
       " 'enableSAT': 0,\n",
       " 'constraintSolverType': 0,\n",
       " 'minimumSolverIslandSize': 0,\n",
       " 'reportSolverAnalytics': 0,\n",
       " 'sparseSdfVoxelSize': 0.0,\n",
       " 'numNonContactInnerIterations': 1}"
      ]
     },
     "execution_count": 3,
     "metadata": {},
     "output_type": "execute_result"
    }
   ],
   "source": [
    "p.connect(p.DIRECT)\n",
    "p.getPhysicsEngineParameters()"
   ]
  },
  {
   "cell_type": "code",
   "execution_count": 5,
   "metadata": {},
   "outputs": [
    {
     "data": {
      "text/plain": [
       "{'fixedTimeStep': 0.002,\n",
       " 'numSubSteps': 0,\n",
       " 'numSolverIterations': 50,\n",
       " 'useRealTimeSimulation': 0,\n",
       " 'gravityAccelerationX': 0.0,\n",
       " 'gravityAccelerationY': 0.0,\n",
       " 'gravityAccelerationZ': -9.8,\n",
       " 'simulationTimestamp': 0.0,\n",
       " 'warmStartingFactor': 0.0,\n",
       " 'articulatedWarmStartingFactor': 0.0,\n",
       " 'useSplitImpulse': 1,\n",
       " 'splitImpulsePenetrationThreshold': -0.03999999910593033,\n",
       " 'contactBreakingThreshold': 0.02,\n",
       " 'internalSimFlags': 0,\n",
       " 'defaultContactERP': 0.0,\n",
       " 'collisionFilterMode': 1,\n",
       " 'enableFileCaching': 1,\n",
       " 'restitutionVelocityThreshold': 0.20000000298023224,\n",
       " 'defaultNonContactERP': 0.0,\n",
       " 'frictionERP': 0.0,\n",
       " 'defaultGlobalCFM': 0.0,\n",
       " 'frictionCFM': 0.0,\n",
       " 'enableConeFriction': 0,\n",
       " 'deterministicOverlappingPairs': 1,\n",
       " 'allowedCcdPenetration': 0.04,\n",
       " 'jointFeedbackMode': 0,\n",
       " 'solverResidualThreshold': 1e-07,\n",
       " 'contactSlop': 1e-05,\n",
       " 'enableSAT': 0,\n",
       " 'constraintSolverType': 0,\n",
       " 'minimumSolverIslandSize': 0,\n",
       " 'reportSolverAnalytics': 0,\n",
       " 'sparseSdfVoxelSize': 0.0,\n",
       " 'numNonContactInnerIterations': 1}"
      ]
     },
     "execution_count": 5,
     "metadata": {},
     "output_type": "execute_result"
    }
   ],
   "source": [
    "p.setPhysicsEngineParameter(**physics_params)\n",
    "p.getPhysicsEngineParameters()"
   ]
  },
  {
   "cell_type": "code",
   "execution_count": null,
   "metadata": {},
   "outputs": [],
   "source": []
  }
 ],
 "metadata": {
  "kernelspec": {
   "display_name": "Base Conda",
   "language": "python",
   "name": "base"
  },
  "language_info": {
   "codemirror_mode": {
    "name": "ipython",
    "version": 3
   },
   "file_extension": ".py",
   "mimetype": "text/x-python",
   "name": "python",
   "nbconvert_exporter": "python",
   "pygments_lexer": "ipython3",
   "version": "3.7.4"
  }
 },
 "nbformat": 4,
 "nbformat_minor": 4
}
