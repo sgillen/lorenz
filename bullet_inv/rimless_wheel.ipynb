{
 "cells": [
  {
   "cell_type": "code",
   "execution_count": 2,
   "metadata": {},
   "outputs": [],
   "source": [
    "import pybullet as p\n",
    "import pybullet_data\n",
    "\n",
    "from numpy import pi"
   ]
  },
  {
   "cell_type": "code",
   "execution_count": 3,
   "metadata": {},
   "outputs": [],
   "source": [
    "p.connect(p.GUI)\n",
    "#p.connect(p.GUI, options=\"--mp4=\\\"test4.mp4\\\" --mp4fps=240\")\n",
    "#p.configureDebugVisualizer(p.COV_ENABLE_SINGLE_STEP_RENDERING,1)\n",
    "#p.startStateLogging(p.STATE_LOGGING_VIDEO_MP4,\"./wheel_work.mp4\")\n",
    "\n",
    "plane_id = p.loadURDF(pybullet_data.getDataPath() + \"/plane.urdf\")\n",
    "ramp_id = p.loadURDF(pybullet_data.getDataPath() + \"/plane.urdf\")\n",
    "wheel_id = p.loadURDF(pybullet_data.getDataPath() + \"/rimless_wheel.urdf\")"
   ]
  },
  {
   "cell_type": "code",
   "execution_count": 4,
   "metadata": {},
   "outputs": [],
   "source": [
    "ramp_ang = p.getQuaternionFromEuler([0,pi/8,0])\n",
    "p.resetBasePositionAndOrientation(ramp_id,[0,0,0],ramp_ang)\n",
    "p.resetBasePositionAndOrientation(wheel_id,[-2,0,2],[0,0,0,1])\n",
    "p.setGravity(0,0,-9.8)\n",
    "p.setJointMotorControlArray(wheel_id, [i for i in range(p.getNumJoints(wheel_id))],controlMode=p.PD_CONTROL, forces=[0]*8)\n"
   ]
  },
  {
   "cell_type": "code",
   "execution_count": 4,
   "metadata": {},
   "outputs": [],
   "source": [
    "\n",
    "for i in range(1000):\n",
    "    p.stepSimulation()\n",
    "    p.configureDebugVisualizer(p.COV_ENABLE_SINGLE_STEP_RENDERING,1)\n"
   ]
  },
  {
   "cell_type": "code",
   "execution_count": 5,
   "metadata": {},
   "outputs": [],
   "source": [
    "p.disconnect()"
   ]
  },
  {
   "cell_type": "code",
   "execution_count": 3,
   "metadata": {},
   "outputs": [
    {
     "data": {
      "text/plain": [
       "(1.0,\n",
       " 0.5,\n",
       " (0.08437308333333335, 0.08437308333333335, 7.350000000000002e-05),\n",
       " (0.0, 0.0, 0.0),\n",
       " (0.0, 0.0, 0.0, 1.0),\n",
       " 0.0,\n",
       " 0.0,\n",
       " 0.0,\n",
       " -1.0,\n",
       " -1.0,\n",
       " 2,\n",
       " 0.001,\n",
       " 0.03999999910593033,\n",
       " 0.03999999910593033,\n",
       " 0.0,\n",
       " 1e+30,\n",
       " 0)"
      ]
     },
     "execution_count": 3,
     "metadata": {},
     "output_type": "execute_result"
    }
   ],
   "source": [
    "p.getPhysicsEngineParameters()\n",
    "p.getDynamicsInfo(wheel_id,0)"
   ]
  },
  {
   "cell_type": "code",
   "execution_count": 5,
   "metadata": {},
   "outputs": [],
   "source": [
    "p.setRealTimeSimulation(1)"
   ]
  },
  {
   "cell_type": "code",
   "execution_count": null,
   "metadata": {},
   "outputs": [],
   "source": []
  }
 ],
 "metadata": {
  "kernelspec": {
   "display_name": "Base Conda",
   "language": "python",
   "name": "base"
  },
  "language_info": {
   "codemirror_mode": {
    "name": "ipython",
    "version": 3
   },
   "file_extension": ".py",
   "mimetype": "text/x-python",
   "name": "python",
   "nbconvert_exporter": "python",
   "pygments_lexer": "ipython3",
   "version": "3.7.4"
  }
 },
 "nbformat": 4,
 "nbformat_minor": 4
}
