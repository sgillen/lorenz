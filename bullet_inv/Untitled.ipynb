{
 "cells": [
  {
   "cell_type": "code",
   "execution_count": 8,
   "metadata": {},
   "outputs": [],
   "source": [
    "import seagul.envs\n",
    "import gym\n",
    "from stable_baselines.common import make_vec_env\n",
    "\n",
    "\n",
    "\n",
    "physics_params = {\n",
    "    'fixedTimeStep': 0.002,\n",
    "    'numSubSteps': 1,\n",
    "    'numSolverIterations': 50,\n",
    "    'useSplitImpulse': 1,\n",
    "    'splitImpulsePenetrationThreshold': -0.03999999910593033,\n",
    "    'contactBreakingThreshold': 0.02,\n",
    "    'collisionFilterMode': 1,\n",
    "    'enableFileCaching': 1,\n",
    "    'restitutionVelocityThreshold': 0.20000000298023224,\n",
    "    'erp': 0.0,\n",
    "    'frictionERP': 0.0,\n",
    "    'contactERP': 0.0,\n",
    "    'globalCFM': 0.0,\n",
    "    'enableConeFriction': 0,\n",
    "    'deterministicOverlappingPairs': 1,\n",
    "    'allowedCcdPenetration': 0.04,\n",
    "    'jointFeedbackMode': 0,\n",
    "    'solverResidualThreshold': 1e-07,\n",
    "    'contactSlop': 1e-05,\n",
    "    'enableSAT': 0,\n",
    "    'constraintSolverType': 0,\n",
    "    'reportSolverAnalytics': 1,\n",
    "}\n",
    "\n",
    "\n",
    "dynamics_params = {\n",
    "    'lateralFriction': 0.9,\n",
    "    'restitution': 0.0,\n",
    "    'rollingFriction': 0.0,\n",
    "    'spinningFriction': 0.0,\n",
    "    'contactDamping': -1.0,\n",
    "    'contactStiffness': -1.0,\n",
    "    'collisionMargin': 0.0,\n",
    "    'angularDamping': 0.0,\n",
    "    'linearDamping': 0.0,\n",
    "    'jointDamping' : .1\n",
    "}\n"
   ]
  },
  {
   "cell_type": "code",
   "execution_count": 9,
   "metadata": {},
   "outputs": [],
   "source": [
    "env = gym.make(\"pbmj_walker2d-v0\", dynamics_params=dynamics_params, physics_params=physics_params)"
   ]
  },
  {
   "cell_type": "code",
   "execution_count": 10,
   "metadata": {},
   "outputs": [],
   "source": [
    "env_config = {\"physics_params\":physics_params, \"dynamics_params\":dynamics_params}\n",
    "env = make_vec_env(seagul.envs.bullet.PBMJWalker2dEnv, n_envs=4, monitor_dir=\"./tmp/\", env_kwargs = env_config)\n"
   ]
  },
  {
   "cell_type": "code",
   "execution_count": null,
   "metadata": {},
   "outputs": [],
   "source": []
  }
 ],
 "metadata": {
  "kernelspec": {
   "display_name": "Stable Baselines (3.6)",
   "language": "python",
   "name": "stable"
  },
  "language_info": {
   "codemirror_mode": {
    "name": "ipython",
    "version": 3
   },
   "file_extension": ".py",
   "mimetype": "text/x-python",
   "name": "python",
   "nbconvert_exporter": "python",
   "pygments_lexer": "ipython3",
   "version": "3.6.9"
  }
 },
 "nbformat": 4,
 "nbformat_minor": 4
}
