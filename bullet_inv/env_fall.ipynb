{
 "cells": [
  {
   "cell_type": "code",
   "execution_count": 3,
   "metadata": {},
   "outputs": [],
   "source": [
    "import gym\n",
    "import pybullet_envs\n",
    "import pybullet as p\n",
    "import pybullet_data\n",
    "import numpy as np\n",
    "import time"
   ]
  },
  {
   "cell_type": "code",
   "execution_count": 4,
   "metadata": {},
   "outputs": [],
   "source": [
    "p.connect(p.GUI)\n",
    "#plane_id = p.loadURDF(pybullet_data.getDataPath() + \"/plane.urdf\")\n",
    "plane_id = p.loadSDF(pybullet_data.getDataPath() + \"/plane_stadium.sdf\")[0]\n",
    "walker_id = p.loadMJCF(pybullet_data.getDataPath() + \"/mjcf/walker2d.xml\", flags=p.URDF_USE_SELF_COLLISION | p.URDF_USE_SELF_COLLISION_EXCLUDE_ALL_PARENTS)[0]\n",
    "\n",
    "\n",
    "#p.setRealTimeSimulation(1)\n",
    "#p.resetBasePositionAndOrientation(1,[0,0,0],[0,0,0,1])\n",
    "p.setGravity(0,0,-9.8)\n",
    "p.setJointMotorControlArray(walker_id,\n",
    "                             [i for i in range(p.getNumJoints(walker_id))],\n",
    "                             p.POSITION_CONTROL,\n",
    "                             positionGains=[0.1]*16,\n",
    "                             velocityGains=[0.1]*16,\n",
    "                             forces=[0 for _ in range(p.getNumJoints(walker_id))]\n",
    "                           )\n",
    "# p.setJointMotorControlArray(walker_id,\n",
    "#                              [0,1,2],\n",
    "#                              p.POSITION_CONTROL,\n",
    "#                              targetPositions=[0]*3,\n",
    "#                              targetVelocities=[0]*3,\n",
    "#                              positionGains=[0.1]*3,\n",
    "#                              velocityGains=[0.1]*3,\n",
    "#                              forces=[0]*3\n",
    "#                            )\n",
    "\n",
    "p.changeDynamics(plane_id, -1, lateralFriction=0.8, restitution=0.5)\n",
    "p.setPhysicsEngineParameter(fixedTimeStep=0.0165,numSubSteps=4,numSolverIterations=5)"
   ]
  },
  {
   "cell_type": "code",
   "execution_count": null,
   "metadata": {},
   "outputs": [],
   "source": [
    "for i in range(p.getNumJoints(walker_id)):\n",
    "    p.resetJointState(walker_id,i,np.random.uniform(low=-.1, high=.1),0)\n",
    "\n",
    "while True:\n",
    "    forces = ((np.random.random(6)-.5)*2*np.array([40, 40, 12, 40, 40, 12])).tolist()\n",
    "    p.setJointMotorControlArray(walker_id, [4,6,8,10,12,14],p.TORQUE_CONTROL,forces=forces)\n",
    "    for i in range(4):\n",
    "        p.stepSimulation()"
   ]
  },
  {
   "cell_type": "code",
   "execution_count": 3,
   "metadata": {},
   "outputs": [
    {
     "ename": "KeyboardInterrupt",
     "evalue": "",
     "output_type": "error",
     "traceback": [
      "\u001b[0;31m---------------------------------------------------------------------------\u001b[0m",
      "\u001b[0;31mKeyboardInterrupt\u001b[0m                         Traceback (most recent call last)",
      "\u001b[0;32m<ipython-input-3-016ced8978e8>\u001b[0m in \u001b[0;36m<module>\u001b[0;34m\u001b[0m\n\u001b[1;32m     16\u001b[0m     \u001b[0mp\u001b[0m\u001b[0;34m.\u001b[0m\u001b[0msetJointMotorControlArray\u001b[0m\u001b[0;34m(\u001b[0m\u001b[0mwalker_id\u001b[0m\u001b[0;34m,\u001b[0m \u001b[0;34m[\u001b[0m\u001b[0;36m4\u001b[0m\u001b[0;34m,\u001b[0m\u001b[0;36m6\u001b[0m\u001b[0;34m,\u001b[0m\u001b[0;36m8\u001b[0m\u001b[0;34m,\u001b[0m\u001b[0;36m10\u001b[0m\u001b[0;34m,\u001b[0m\u001b[0;36m12\u001b[0m\u001b[0;34m,\u001b[0m\u001b[0;36m14\u001b[0m\u001b[0;34m]\u001b[0m\u001b[0;34m,\u001b[0m\u001b[0mp\u001b[0m\u001b[0;34m.\u001b[0m\u001b[0mTORQUE_CONTROL\u001b[0m\u001b[0;34m,\u001b[0m\u001b[0mforces\u001b[0m\u001b[0;34m=\u001b[0m\u001b[0mforces\u001b[0m\u001b[0;34m)\u001b[0m\u001b[0;34m\u001b[0m\u001b[0;34m\u001b[0m\u001b[0m\n\u001b[1;32m     17\u001b[0m     \u001b[0;32mfor\u001b[0m \u001b[0mi\u001b[0m \u001b[0;32min\u001b[0m \u001b[0mrange\u001b[0m\u001b[0;34m(\u001b[0m\u001b[0;36m4\u001b[0m\u001b[0;34m)\u001b[0m\u001b[0;34m:\u001b[0m\u001b[0;34m\u001b[0m\u001b[0;34m\u001b[0m\u001b[0m\n\u001b[0;32m---> 18\u001b[0;31m         \u001b[0mp\u001b[0m\u001b[0;34m.\u001b[0m\u001b[0mstepSimulation\u001b[0m\u001b[0;34m(\u001b[0m\u001b[0;34m)\u001b[0m\u001b[0;34m\u001b[0m\u001b[0;34m\u001b[0m\u001b[0m\n\u001b[0m",
      "\u001b[0;31mKeyboardInterrupt\u001b[0m: "
     ]
    }
   ],
   "source": []
  },
  {
   "cell_type": "code",
   "execution_count": 6,
   "metadata": {},
   "outputs": [],
   "source": [
    "p.disconnect()"
   ]
  },
  {
   "cell_type": "code",
   "execution_count": null,
   "metadata": {},
   "outputs": [],
   "source": [
    "import gym\n",
    "import pybullet_envs\n",
    "import pybullet as p\n",
    "import pybullet_data\n",
    "import numpy as np\n",
    "import time\n",
    "\n",
    "env = gym.make(\"Walker2DBulletEnv-v0\", render=True)\n",
    "env.reset()\n",
    "\n",
    "foot = env.robot.parts['foot_left']\n",
    "robot = env.robot\n",
    "\n",
    "#p.resetBasePositionAndOrientation(1,[0,0,3],[0,0,0,1])\n",
    "#p.setRealTimeSimulation(1)\n",
    "p.setGravity(0,0,-9.8)\n",
    "\n",
    "while True:\n",
    "    forces = ((np.random.random(6)-.5))\n",
    "    obs, rews, done, _ = env.step(forces)\n",
    "\n"
   ]
  },
  {
   "cell_type": "code",
   "execution_count": null,
   "metadata": {},
   "outputs": [],
   "source": []
  }
 ],
 "metadata": {
  "kernelspec": {
   "display_name": "Base Conda",
   "language": "python",
   "name": "base"
  },
  "language_info": {
   "codemirror_mode": {
    "name": "ipython",
    "version": 3
   },
   "file_extension": ".py",
   "mimetype": "text/x-python",
   "name": "python",
   "nbconvert_exporter": "python",
   "pygments_lexer": "ipython3",
   "version": "3.7.4"
  }
 },
 "nbformat": 4,
 "nbformat_minor": 4
}
