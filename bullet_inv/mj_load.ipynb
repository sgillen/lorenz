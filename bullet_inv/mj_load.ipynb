{
 "cells": [
  {
   "cell_type": "code",
   "execution_count": 2,
   "metadata": {},
   "outputs": [],
   "source": [
    "p.setRealTimeSimulation(1)"
   ]
  },
  {
   "cell_type": "code",
   "execution_count": 6,
   "metadata": {},
   "outputs": [],
   "source": [
    "forces = np.random.random(6).tolist()\n",
    "p.setJointMotorControlArray(walker_id, [4,6,8,10,12,14],p.TORQUE_CONTROL,forces=[1,1,1,1,1,1])\n",
    "for _ in range(4):\n",
    "    p.stepSimulation()"
   ]
  },
  {
   "cell_type": "code",
   "execution_count": 2,
   "metadata": {},
   "outputs": [
    {
     "ename": "KeyboardInterrupt",
     "evalue": "",
     "output_type": "error",
     "traceback": [
      "\u001b[0;31m---------------------------------------------------------------------------\u001b[0m",
      "\u001b[0;31mKeyboardInterrupt\u001b[0m                         Traceback (most recent call last)",
      "\u001b[0;32m<ipython-input-2-b7bce3ce8495>\u001b[0m in \u001b[0;36m<module>\u001b[0;34m\u001b[0m\n\u001b[1;32m      3\u001b[0m     \u001b[0mp\u001b[0m\u001b[0;34m.\u001b[0m\u001b[0msetJointMotorControlArray\u001b[0m\u001b[0;34m(\u001b[0m\u001b[0mwalker_id\u001b[0m\u001b[0;34m,\u001b[0m \u001b[0;34m[\u001b[0m\u001b[0;36m4\u001b[0m\u001b[0;34m,\u001b[0m\u001b[0;36m6\u001b[0m\u001b[0;34m,\u001b[0m\u001b[0;36m8\u001b[0m\u001b[0;34m,\u001b[0m\u001b[0;36m10\u001b[0m\u001b[0;34m,\u001b[0m\u001b[0;36m12\u001b[0m\u001b[0;34m,\u001b[0m\u001b[0;36m14\u001b[0m\u001b[0;34m]\u001b[0m\u001b[0;34m,\u001b[0m\u001b[0mp\u001b[0m\u001b[0;34m.\u001b[0m\u001b[0mTORQUE_CONTROL\u001b[0m\u001b[0;34m,\u001b[0m\u001b[0mforces\u001b[0m\u001b[0;34m=\u001b[0m\u001b[0mforces\u001b[0m\u001b[0;34m)\u001b[0m\u001b[0;34m\u001b[0m\u001b[0;34m\u001b[0m\u001b[0m\n\u001b[1;32m      4\u001b[0m     \u001b[0;32mfor\u001b[0m \u001b[0m_\u001b[0m \u001b[0;32min\u001b[0m \u001b[0mrange\u001b[0m\u001b[0;34m(\u001b[0m\u001b[0;36m40\u001b[0m\u001b[0;34m)\u001b[0m\u001b[0;34m:\u001b[0m\u001b[0;34m\u001b[0m\u001b[0;34m\u001b[0m\u001b[0m\n\u001b[0;32m----> 5\u001b[0;31m         \u001b[0mp\u001b[0m\u001b[0;34m.\u001b[0m\u001b[0mstepSimulation\u001b[0m\u001b[0;34m(\u001b[0m\u001b[0;34m)\u001b[0m\u001b[0;34m\u001b[0m\u001b[0;34m\u001b[0m\u001b[0m\n\u001b[0m",
      "\u001b[0;31mKeyboardInterrupt\u001b[0m: "
     ]
    }
   ],
   "source": [
    "while True:\n",
    "    forces = ((np.random.random(6)-.5)*200).tolist()\n",
    "    p.setJointMotorControlArray(walker_id, [4,6,8,10,12,14],p.TORQUE_CONTROL,forces=forces)\n",
    "    for _ in range(40):\n",
    "        p.stepSimulation()"
   ]
  },
  {
   "cell_type": "code",
   "execution_count": 2,
   "metadata": {},
   "outputs": [
    {
     "name": "stdout",
     "output_type": "stream",
     "text": [
      "current_dir=/home/sgillen/work/lorenz/bullet_inv\n",
      "15\n",
      "finished\n"
     ]
    }
   ],
   "source": [
    "import os, inspect\n",
    "currentdir = os.path.dirname(os.path.abspath(inspect.getfile(inspect.currentframe())))\n",
    "print(\"current_dir=\" + currentdir)\n",
    "parentdir = os.path.join(currentdir, \"../gym\")\n",
    "os.sys.path.insert(0, parentdir)\n",
    "\n",
    "import pybullet\n",
    "import pybullet_data\n",
    "\n",
    "import time\n",
    "\n",
    "#choose connection method: GUI, DIRECT, SHARED_MEMORY\n",
    "pybullet.connect(pybullet.GUI)\n",
    "pybullet.loadURDF(os.path.join(pybullet_data.getDataPath(), \"plane.urdf\"), 0, 0, -1)\n",
    "#load URDF, given a relative or absolute file+path\n",
    "obj = pybullet.loadURDF(os.path.join(pybullet_data.getDataPath(), \"r2d2.urdf\"))\n",
    "\n",
    "posX = 0\n",
    "posY = 3\n",
    "posZ = 2\n",
    "obj2 = pybullet.loadURDF(os.path.join(pybullet_data.getDataPath(), \"kuka_iiwa/model.urdf\"), posX,\n",
    "                         posY, posZ)\n",
    "\n",
    "#query the number of joints of the object\n",
    "numJoints = pybullet.getNumJoints(obj)\n",
    "\n",
    "print(numJoints)\n",
    "\n",
    "#set the gravity acceleration\n",
    "pybullet.setGravity(0, 0, -9.8)\n",
    "\n",
    "#step the simulation for 5 seconds\n",
    "t_end = time.time() + 5\n",
    "while time.time() < t_end:\n",
    "  pybullet.stepSimulation()\n",
    "  posAndOrn = pybullet.getBasePositionAndOrientation(obj)\n",
    "  #print(posAndOrn)\n",
    "\n",
    "print(\"finished\")\n",
    "#remove all objects\n",
    "#pybullet.resetSimulation()\n",
    "\n",
    "#disconnect from the physics server\n",
    "#pybullet.disconnect()"
   ]
  },
  {
   "cell_type": "code",
   "execution_count": 4,
   "metadata": {},
   "outputs": [],
   "source": [
    "pybullet.setRealTimeSimulation(1)"
   ]
  },
  {
   "cell_type": "code",
   "execution_count": null,
   "metadata": {},
   "outputs": [],
   "source": []
  }
 ],
 "metadata": {
  "kernelspec": {
   "display_name": "Base Conda",
   "language": "python",
   "name": "base"
  },
  "language_info": {
   "codemirror_mode": {
    "name": "ipython",
    "version": 3
   },
   "file_extension": ".py",
   "mimetype": "text/x-python",
   "name": "python",
   "nbconvert_exporter": "python",
   "pygments_lexer": "ipython3",
   "version": "3.7.4"
  }
 },
 "nbformat": 4,
 "nbformat_minor": 4
}
