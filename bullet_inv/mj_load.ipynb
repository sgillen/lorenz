{
 "cells": [
  {
   "cell_type": "code",
   "execution_count": 1,
   "metadata": {},
   "outputs": [],
   "source": [
    "import gym\n",
    "import pybullet as p\n",
    "import pybullet_data\n",
    "import numpy as np"
   ]
  },
  {
   "cell_type": "code",
   "execution_count": 2,
   "metadata": {},
   "outputs": [],
   "source": [
    "p.connect(p.GUI)\n",
    "plane_id = p.loadURDF(pybullet_data.getDataPath() + \"/plane.urdf\")\n",
    "walker_id = p.loadMJCF(pybullet_data.getDataPath() + \"/mjcf/walker2d.xml\")[0]"
   ]
  },
  {
   "cell_type": "code",
   "execution_count": 3,
   "metadata": {},
   "outputs": [],
   "source": [
    "p.setRealTimeSimulation(1)"
   ]
  },
  {
   "cell_type": "code",
   "execution_count": 4,
   "metadata": {},
   "outputs": [],
   "source": [
    "forces = np.random.random(6).tolist()\n",
    "p.setJointMotorControlArray(walker_id, [4,6,8,10,12,14],p.TORQUE_CONTROL,forces=[1,1,1,1,1,1])\n",
    "for _ in range(4):\n",
    "    p.stepSimulation()"
   ]
  },
  {
   "cell_type": "code",
   "execution_count": null,
   "metadata": {},
   "outputs": [],
   "source": [
    "while True:\n",
    "    forces = ((np.random.random(6)-.5)*200).tolist()\n",
    "    p.setJointMotorControlArray(walker_id, [4,6,8,10,12,14],p.TORQUE_CONTROL,forces=forces)\n",
    "    for _ in range(40):\n",
    "        p.stepSimulation()"
   ]
  },
  {
   "cell_type": "code",
   "execution_count": 2,
   "metadata": {},
   "outputs": [
    {
     "name": "stdout",
     "output_type": "stream",
     "text": [
      "current_dir=/home/sgillen/work/lorenz/bullet_inv\n",
      "15\n",
      "finished\n"
     ]
    }
   ],
   "source": [
    "import os, inspect\n",
    "currentdir = os.path.dirname(os.path.abspath(inspect.getfile(inspect.currentframe())))\n",
    "print(\"current_dir=\" + currentdir)\n",
    "parentdir = os.path.join(currentdir, \"../gym\")\n",
    "os.sys.path.insert(0, parentdir)\n",
    "\n",
    "import pybullet\n",
    "import pybullet_data\n",
    "\n",
    "import time\n",
    "\n",
    "#choose connection method: GUI, DIRECT, SHARED_MEMORY\n",
    "pybullet.connect(pybullet.GUI)\n",
    "pybullet.loadURDF(os.path.join(pybullet_data.getDataPath(), \"plane.urdf\"), 0, 0, -1)\n",
    "#load URDF, given a relative or absolute file+path\n",
    "obj = pybullet.loadURDF(os.path.join(pybullet_data.getDataPath(), \"r2d2.urdf\"))\n",
    "\n",
    "posX = 0\n",
    "posY = 3\n",
    "posZ = 2\n",
    "obj2 = pybullet.loadURDF(os.path.join(pybullet_data.getDataPath(), \"kuka_iiwa/model.urdf\"), posX,\n",
    "                         posY, posZ)\n",
    "\n",
    "#query the number of joints of the object\n",
    "numJoints = pybullet.getNumJoints(obj)\n",
    "\n",
    "print(numJoints)\n",
    "\n",
    "#set the gravity acceleration\n",
    "pybullet.setGravity(0, 0, -9.8)\n",
    "\n",
    "#step the simulation for 5 seconds\n",
    "t_end = time.time() + 5\n",
    "while time.time() < t_end:\n",
    "  pybullet.stepSimulation()\n",
    "  posAndOrn = pybullet.getBasePositionAndOrientation(obj)\n",
    "  #print(posAndOrn)\n",
    "\n",
    "print(\"finished\")\n",
    "#remove all objects\n",
    "#pybullet.resetSimulation()\n",
    "\n",
    "#disconnect from the physics server\n",
    "#pybullet.disconnect()"
   ]
  },
  {
   "cell_type": "code",
   "execution_count": 4,
   "metadata": {},
   "outputs": [],
   "source": [
    "pybullet.setRealTimeSimulation(1)"
   ]
  },
  {
   "cell_type": "code",
   "execution_count": null,
   "metadata": {},
   "outputs": [],
   "source": []
  }
 ],
 "metadata": {
  "kernelspec": {
   "display_name": "Base Conda",
   "language": "python",
   "name": "base"
  },
  "language_info": {
   "codemirror_mode": {
    "name": "ipython",
    "version": 3
   },
   "file_extension": ".py",
   "mimetype": "text/x-python",
   "name": "python",
   "nbconvert_exporter": "python",
   "pygments_lexer": "ipython3",
   "version": "3.7.4"
  }
 },
 "nbformat": 4,
 "nbformat_minor": 4
}
