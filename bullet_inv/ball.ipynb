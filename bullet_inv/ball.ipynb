{
 "cells": [
  {
   "cell_type": "code",
   "execution_count": 1,
   "metadata": {},
   "outputs": [],
   "source": [
    "import pybullet as p\n",
    "import pybullet_data\n",
    "import numpy as np\n",
    "import matplotlib.pyplot as plt\n",
    "\n",
    "physics_params = {\n",
    "    'fixedTimeStep': 0.002,\n",
    "    'numSubSteps': 0,\n",
    "    'numSolverIterations': 50,\n",
    "    'useSplitImpulse': 1,\n",
    "    'splitImpulsePenetrationThreshold': -0.03999999910593033,\n",
    "    'contactBreakingThreshold': 0.02,\n",
    "    'collisionFilterMode': 1,\n",
    "    'enableFileCaching': 1,\n",
    "    'restitutionVelocityThreshold': 0.20000000298023224,\n",
    "    'erp': 0.0,\n",
    "    'frictionERP': 0.0,\n",
    "    'contactERP': 0.0,\n",
    "    'globalCFM': 0.0,\n",
    "    'enableConeFriction': 0,\n",
    "    'deterministicOverlappingPairs': 1,\n",
    "    'allowedCcdPenetration': 0.04,\n",
    "    'jointFeedbackMode': 0,\n",
    "    'solverResidualThreshold': 1e-07,\n",
    "    'contactSlop': 1e-05,\n",
    "    'enableSAT': 0,\n",
    "    'constraintSolverType': 0,\n",
    "    'reportSolverAnalytics': 1,\n",
    "}\n",
    "\n",
    "dynamics_params = {\n",
    "    'lateralFriction': 0.8,\n",
    "    'restitution': 0.325,\n",
    "    'rollingFriction': 0.1,\n",
    "    'spinningFriction': 0.1,\n",
    "    #'contactDamping':  -1, #948.95018837,\n",
    "    #'contactStiffness': -1, #23201.60208068,\n",
    "    'contactStiffness': 2493.074792243767,\n",
    "    'contactDamping': 105.26315789473685 ,\n",
    "    'collisionMargin': 0.0,\n",
    "    'angularDamping': 0.0,\n",
    "    'linearDamping': 0.0,\n",
    "    'jointDamping': .1,\n",
    "}\n",
    "\n",
    "p.connect(p.DIRECT)\n",
    "plane_id = p.loadURDF(pybullet_data.getDataPath() + \"/plane.urdf\")\n",
    "sphere_id = p.loadURDF(pybullet_data.getDataPath() + \"/sphere2.urdf\")"
   ]
  },
  {
   "cell_type": "code",
   "execution_count": 5,
   "metadata": {},
   "outputs": [],
   "source": [
    "p.resetBasePositionAndOrientation(sphere_id,[0,0,10],[0,0,0,1.0])\n",
    "p.setGravity(0,0,-9.8)\n",
    "\n",
    "p.setPhysicsEngineParameter(**physics_params)\n",
    "p.changeDynamics(sphere_id, -1, **dynamics_params)    \n",
    "p.changeDynamics(plane_id,-1,**dynamics_params)"
   ]
  },
  {
   "cell_type": "code",
   "execution_count": 6,
   "metadata": {},
   "outputs": [],
   "source": [
    "# for i in range(500):\n",
    "#     print(p.getBasePositionAndOrientation(sphere_id))\n",
    "#     p.stepSimulation()\n",
    "#     #p.configureDebugVisualizer(p.COV_ENABLE_SINGLE_STEP_RENDERING,1)\n",
    "# p.disconnect()\n",
    "\n",
    "\n",
    "ep_len = 2000\n",
    "\n",
    "z = np.zeros((ep_len))\n",
    "dz = np.zeros((ep_len))\n",
    "\n",
    "\n",
    "for i in range(ep_len):\n",
    "    p.stepSimulation()\n",
    "    z[i] = np.copy(p.getBasePositionAndOrientation(sphere_id)[0][2])\n",
    "    dz[i] = np.copy(p.getBaseVelocity(sphere_id)[0][2])\n",
    "    #p.configureDebugVisualizer(p.COV_ENABLE_SINGLE_STEP_RENDERING,1)"
   ]
  },
  {
   "cell_type": "code",
   "execution_count": 2,
   "metadata": {},
   "outputs": [
    {
     "ename": "NameError",
     "evalue": "name 'z' is not defined",
     "output_type": "error",
     "traceback": [
      "\u001b[0;31m---------------------------------------------------------------------------\u001b[0m",
      "\u001b[0;31mNameError\u001b[0m                                 Traceback (most recent call last)",
      "\u001b[0;32m<ipython-input-2-8076f5b47967>\u001b[0m in \u001b[0;36m<module>\u001b[0;34m\u001b[0m\n\u001b[0;32m----> 1\u001b[0;31m \u001b[0mplt\u001b[0m\u001b[0;34m.\u001b[0m\u001b[0mplot\u001b[0m\u001b[0;34m(\u001b[0m\u001b[0mz\u001b[0m\u001b[0;34m[\u001b[0m\u001b[0;36m675\u001b[0m\u001b[0;34m:\u001b[0m\u001b[0;36m1000\u001b[0m\u001b[0;34m]\u001b[0m\u001b[0;34m)\u001b[0m\u001b[0;34m\u001b[0m\u001b[0;34m\u001b[0m\u001b[0m\n\u001b[0m\u001b[1;32m      2\u001b[0m \u001b[0mplt\u001b[0m\u001b[0;34m.\u001b[0m\u001b[0mtitle\u001b[0m\u001b[0;34m(\u001b[0m\u001b[0;34m\"Bullet Ball Z Position\"\u001b[0m\u001b[0;34m)\u001b[0m\u001b[0;34m\u001b[0m\u001b[0;34m\u001b[0m\u001b[0m\n\u001b[1;32m      3\u001b[0m \u001b[0mplt\u001b[0m\u001b[0;34m.\u001b[0m\u001b[0maxhline\u001b[0m\u001b[0;34m(\u001b[0m\u001b[0;36m.5\u001b[0m\u001b[0;34m,\u001b[0m \u001b[0;34m-\u001b[0m\u001b[0;36m1\u001b[0m\u001b[0;34m,\u001b[0m \u001b[0;36m11\u001b[0m\u001b[0;34m,\u001b[0m\u001b[0mcolor\u001b[0m\u001b[0;34m=\u001b[0m\u001b[0;34m'k'\u001b[0m\u001b[0;34m,\u001b[0m  \u001b[0mlinestyle\u001b[0m\u001b[0;34m=\u001b[0m\u001b[0;34m'dashed'\u001b[0m\u001b[0;34m)\u001b[0m\u001b[0;34m\u001b[0m\u001b[0;34m\u001b[0m\u001b[0m\n\u001b[1;32m      4\u001b[0m \u001b[0mplt\u001b[0m\u001b[0;34m.\u001b[0m\u001b[0mgrid\u001b[0m\u001b[0;34m(\u001b[0m\u001b[0;34m)\u001b[0m\u001b[0;34m\u001b[0m\u001b[0;34m\u001b[0m\u001b[0m\n\u001b[1;32m      5\u001b[0m \u001b[0;34m\u001b[0m\u001b[0m\n",
      "\u001b[0;31mNameError\u001b[0m: name 'z' is not defined"
     ]
    }
   ],
   "source": [
    "plt.plot(z[675:1000])\n",
    "plt.title(\"Bullet Ball Z Position\")\n",
    "plt.axhline(.5, -1, 11,color='k',  linestyle='dashed')\n",
    "plt.grid()\n",
    "\n",
    "plt.figure()\n",
    "\n",
    "plt.plot(dz[675:1000])\n",
    "plt.title(\"Bullet Ball Z Velocity\")\n",
    "plt.grid()"
   ]
  },
  {
   "cell_type": "code",
   "execution_count": 4,
   "metadata": {},
   "outputs": [],
   "source": [
    "p.setRealTimeSimulation(1)"
   ]
  },
  {
   "cell_type": "code",
   "execution_count": 5,
   "metadata": {},
   "outputs": [
    {
     "data": {
      "text/plain": [
       "(10.0,\n",
       " 0.5,\n",
       " (1.0, 1.0, 1.0),\n",
       " (0.0, 0.0, 0.0),\n",
       " (0.0, 0.0, 0.0, 1.0),\n",
       " 0.0,\n",
       " 0.03,\n",
       " 0.03,\n",
       " -1.0,\n",
       " -1.0,\n",
       " 2,\n",
       " 0.5,\n",
       " 0.03999999910593033,\n",
       " 0.03999999910593033,\n",
       " 0.0,\n",
       " 1e+30,\n",
       " 0)"
      ]
     },
     "execution_count": 5,
     "metadata": {},
     "output_type": "execute_result"
    }
   ],
   "source": [
    "p.getDynamicsInfo(sphere_id,-1)"
   ]
  },
  {
   "cell_type": "code",
   "execution_count": 1,
   "metadata": {},
   "outputs": [
    {
     "ename": "NameError",
     "evalue": "name 'p' is not defined",
     "output_type": "error",
     "traceback": [
      "\u001b[0;31m---------------------------------------------------------------------------\u001b[0m",
      "\u001b[0;31mNameError\u001b[0m                                 Traceback (most recent call last)",
      "\u001b[0;32m<ipython-input-1-ce9cacbf3385>\u001b[0m in \u001b[0;36m<module>\u001b[0;34m\u001b[0m\n\u001b[0;32m----> 1\u001b[0;31m \u001b[0mp\u001b[0m\u001b[0;34m.\u001b[0m\u001b[0mdisconnect\u001b[0m\u001b[0;34m(\u001b[0m\u001b[0;34m)\u001b[0m\u001b[0;34m\u001b[0m\u001b[0;34m\u001b[0m\u001b[0m\n\u001b[0m",
      "\u001b[0;31mNameError\u001b[0m: name 'p' is not defined"
     ]
    }
   ],
   "source": [
    "p.disconnect()"
   ]
  },
  {
   "cell_type": "code",
   "execution_count": 5,
   "metadata": {},
   "outputs": [],
   "source": [
    "import mujoco_py as mj\n",
    "import numpy as np\n",
    "import matplotlib.pyplot as plt\n",
    "model = mj.load_model_from_path(\"/home/sgillen/work/lorenz/bullet_inv/ball.xml\")\n",
    "sim = mj.MjSim(model)\n",
    "#viewer = mj.MjViewer(sim)\n",
    "#viewer.render()"
   ]
  },
  {
   "cell_type": "code",
   "execution_count": 6,
   "metadata": {},
   "outputs": [],
   "source": [
    "#while True:\n",
    "#    viewer.render()"
   ]
  },
  {
   "cell_type": "code",
   "execution_count": 7,
   "metadata": {},
   "outputs": [],
   "source": [
    "ep_len = 2000\n",
    "\n",
    "qpos = np.zeros((ep_len,3))\n",
    "qvel = np.zeros((ep_len,3))\n",
    "\n",
    "for i in range(ep_len):\n",
    "    sim.step()\n",
    "    #viewer.render()\n",
    "    qpos[i,:] = np.copy(sim.data.qpos)\n",
    "    qvel[i,:] = np.copy(sim.data.qvel)"
   ]
  },
  {
   "cell_type": "code",
   "execution_count": 8,
   "metadata": {},
   "outputs": [
    {
     "data": {
      "image/png": "[encoded data removed]",
      "text/plain": [
       "<Figure size 432x288 with 1 Axes>"
      ]
     },
     "metadata": {
      "needs_background": "light"
     },
     "output_type": "display_data"
    },
    {
     "data": {
      "image/png": "[encoded data removed]",
      "text/plain": [
       "<Figure size 432x288 with 1 Axes>"
      ]
     },
     "metadata": {
      "needs_background": "light"
     },
     "output_type": "display_data"
    }
   ],
   "source": [
    "plt.plot(qpos[675:1000,1]+10.0)\n",
    "plt.title(\"Mujoco Ball Z Position\")\n",
    "plt.axhline(.5, -1, 11,color='k',  linestyle='dashed')\n",
    "plt.grid()\n",
    "\n",
    "plt.figure()\n",
    "plt.plot(qvel[650:1000,1])\n",
    "plt.title(\"Mujoco Ball Z Velocity\")\n",
    "plt.grid()"
   ]
  },
  {
   "cell_type": "code",
   "execution_count": 56,
   "metadata": {},
   "outputs": [],
   "source": [
    "z = qpos[:,1]+10\n",
    "dz= qvel[:,1]"
   ]
  },
  {
   "cell_type": "code",
   "execution_count": 38,
   "metadata": {},
   "outputs": [],
   "source": [
    "start_idx = np.where(z <=.5)[0][0]  \n",
    "end_idx = np.where(z[start_idx:] >= .5)[0][0] + start_idx"
   ]
  },
  {
   "cell_type": "code",
   "execution_count": 44,
   "metadata": {},
   "outputs": [
    {
     "data": {
      "image/png": "[encoded data removed]",
      "text/plain": [
       "<Figure size 432x288 with 1 Axes>"
      ]
     },
     "metadata": {
      "needs_background": "light"
     },
     "output_type": "display_data"
    }
   ],
   "source": [
    "plt.plot(z[start_idx:end_idx])\n",
    "ydata = np.stack([z[start_idx:end_idx], dz[start_idx:end_idx]],axis=-1)\n",
    "ydata.shape\n",
    "plt.plot(z[start_idx:start_idx+21])\n",
    "plt.legend([\"Trajectory\", \"Trajectory experiencing ground forces\"])\n",
    "plt.grid()\n"
   ]
  },
  {
   "cell_type": "code",
   "execution_count": 63,
   "metadata": {},
   "outputs": [],
   "source": [
    "import scipy.optimize as opt\n",
    "#end_idx = start_idx+21 #hack\n",
    "\n",
    "xdata = np.stack([qpos[start_idx:end_idx,1]+10,qvel[start_idx:end_idx,1]], axis=-1)\n",
    "acc = [(dz[start_idx+(i+1)]-dz[start_idx+(i)])/.002 for i in range(end_idx-start_idx)]\n",
    "\n",
    "def acc_fcn(x, k, b):\n",
    "    return (-k*(x[:,0]-.5) - b*x[:,1] - 9.8)/10\n",
    "\n",
    "popt, pcov = opt.curve_fit(acc_fcn, xdata, np.array(acc))"
   ]
  },
  {
   "cell_type": "code",
   "execution_count": 64,
   "metadata": {},
   "outputs": [
    {
     "data": {
      "text/plain": [
       "array([25072.66239929,   907.37379609])"
      ]
     },
     "execution_count": 64,
     "metadata": {},
     "output_type": "execute_result"
    }
   ],
   "source": [
    "popt"
   ]
  },
  {
   "cell_type": "code",
   "execution_count": 5,
   "metadata": {},
   "outputs": [
    {
     "ename": "NameError",
     "evalue": "name 'acc_fcn' is not defined",
     "output_type": "error",
     "traceback": [
      "\u001b[0;31m---------------------------------------------------------------------------\u001b[0m",
      "\u001b[0;31mNameError\u001b[0m                                 Traceback (most recent call last)",
      "\u001b[0;32m<ipython-input-5-1b489e17e039>\u001b[0m in \u001b[0;36m<module>\u001b[0;34m\u001b[0m\n\u001b[0;32m----> 1\u001b[0;31m \u001b[0mplt\u001b[0m\u001b[0;34m.\u001b[0m\u001b[0mplot\u001b[0m\u001b[0;34m(\u001b[0m\u001b[0macc_fcn\u001b[0m\u001b[0;34m(\u001b[0m\u001b[0mxdata\u001b[0m\u001b[0;34m,\u001b[0m\u001b[0;34m*\u001b[0m\u001b[0mpopt\u001b[0m\u001b[0;34m)\u001b[0m\u001b[0;34m)\u001b[0m\u001b[0;34m\u001b[0m\u001b[0;34m\u001b[0m\u001b[0m\n\u001b[0m",
      "\u001b[0;31mNameError\u001b[0m: name 'acc_fcn' is not defined"
     ]
    }
   ],
   "source": [
    "plt.plot(acc_fcn(xdata,*popt))"
   ]
  },
  {
   "cell_type": "code",
   "execution_count": 129,
   "metadata": {},
   "outputs": [
    {
     "data": {
      "text/plain": [
       "[<matplotlib.lines.Line2D at 0x7fb1fdb55be0>]"
      ]
     },
     "execution_count": 129,
     "metadata": {},
     "output_type": "execute_result"
    },
    {
     "data": {
      "image/png": "[encoded data removed]",
      "text/plain": [
       "<Figure size 432x288 with 1 Axes>"
      ]
     },
     "metadata": {
      "needs_background": "light"
     },
     "output_type": "display_data"
    }
   ],
   "source": [
    "plt.plot(acc)"
   ]
  },
  {
   "cell_type": "code",
   "execution_count": null,
   "metadata": {},
   "outputs": [],
   "source": []
  }
 ],
 "metadata": {
  "kernelspec": {
   "display_name": "Baselines (3.6)",
   "language": "python",
   "name": "baselines"
  },
  "language_info": {
   "codemirror_mode": {
    "name": "ipython",
    "version": 3
   },
   "file_extension": ".py",
   "mimetype": "text/x-python",
   "name": "python",
   "nbconvert_exporter": "python",
   "pygments_lexer": "ipython3",
   "version": "3.6.8"
  }
 },
 "nbformat": 4,
 "nbformat_minor": 4
}
