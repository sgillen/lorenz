{
 "cells": [
  {
   "cell_type": "code",
   "execution_count": 1,
   "metadata": {},
   "outputs": [],
   "source": [
    "import pybullet as p\n",
    "import pybullet_data"
   ]
  },
  {
   "cell_type": "code",
   "execution_count": 2,
   "metadata": {},
   "outputs": [],
   "source": [
    "p.connect(p.GUI)\n",
    "#p.connect(p.GUI, options=\"--mp4=\\\"test4.mp4\\\" --mp4fps=240\")\n",
    "p.configureDebugVisualizer(p.COV_ENABLE_SINGLE_STEP_RENDERING,1)\n",
    "p.startStateLogging(p.STATE_LOGGING_VIDEO_MP4,\"./ball_r8.mp4\")\n",
    "\n",
    "\n",
    "plane_id = p.loadURDF(pybullet_data.getDataPath() + \"/plane.urdf\")\n",
    "sphere_id = p.loadURDF(pybullet_data.getDataPath() + \"/sphere2.urdf\")"
   ]
  },
  {
   "cell_type": "code",
   "execution_count": 3,
   "metadata": {},
   "outputs": [],
   "source": [
    "p.resetBasePositionAndOrientation(sphere_id,[0,0,5],[0,0,0,1.0])\n",
    "p.setGravity(0,0,-9.8)\n",
    "\n",
    "lateralFriction = 1\n",
    "spinningFriction = 0\n",
    "rollingFriction = 1\n",
    "restitution = .8\n",
    "\n",
    "p.changeDynamics(plane_id, -1, lateralFriction=1)\n",
    "p.changeDynamics(sphere_id, -1, lateralFriction=lateralFriction)\n",
    "p.changeDynamics(sphere_id, -1, spinningFriction=spinningFriction)\n",
    "p.changeDynamics(sphere_id, -1, rollingFriction=rollingFriction)\n",
    "\n",
    "p.changeDynamics(plane_id, -1, restitution=restitution)\n",
    "p.changeDynamics(sphere_id, -1, restitution=restitution)"
   ]
  },
  {
   "cell_type": "code",
   "execution_count": 4,
   "metadata": {},
   "outputs": [],
   "source": [
    "for i in range(500):\n",
    "    p.stepSimulation()\n",
    "    p.configureDebugVisualizer(p.COV_ENABLE_SINGLE_STEP_RENDERING,1)\n",
    "p.disconnect()"
   ]
  },
  {
   "cell_type": "code",
   "execution_count": 4,
   "metadata": {},
   "outputs": [],
   "source": [
    "p.setRealTimeSimulation(1)"
   ]
  },
  {
   "cell_type": "code",
   "execution_count": 5,
   "metadata": {},
   "outputs": [
    {
     "data": {
      "text/plain": [
       "(10.0,\n",
       " 0.5,\n",
       " (1.0, 1.0, 1.0),\n",
       " (0.0, 0.0, 0.0),\n",
       " (0.0, 0.0, 0.0, 1.0),\n",
       " 0.0,\n",
       " 0.03,\n",
       " 0.03,\n",
       " -1.0,\n",
       " -1.0,\n",
       " 2,\n",
       " 0.5,\n",
       " 0.03999999910593033,\n",
       " 0.03999999910593033,\n",
       " 0.0,\n",
       " 1e+30,\n",
       " 0)"
      ]
     },
     "execution_count": 5,
     "metadata": {},
     "output_type": "execute_result"
    }
   ],
   "source": [
    "p.getDynamicsInfo(sphere_id,-1)"
   ]
  },
  {
   "cell_type": "code",
   "execution_count": 5,
   "metadata": {},
   "outputs": [],
   "source": [
    "p.disconnect()"
   ]
  },
  {
   "cell_type": "code",
   "execution_count": null,
   "metadata": {},
   "outputs": [],
   "source": []
  }
 ],
 "metadata": {
  "kernelspec": {
   "display_name": "Base Conda",
   "language": "python",
   "name": "base"
  },
  "language_info": {
   "codemirror_mode": {
    "name": "ipython",
    "version": 3
   },
   "file_extension": ".py",
   "mimetype": "text/x-python",
   "name": "python",
   "nbconvert_exporter": "python",
   "pygments_lexer": "ipython3",
   "version": "3.7.4"
  }
 },
 "nbformat": 4,
 "nbformat_minor": 4
}
