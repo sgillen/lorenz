{
 "cells": [
  {
   "cell_type": "code",
   "execution_count": 9,
   "metadata": {},
   "outputs": [
    {
     "data": {
      "text/plain": [
       "<torch.autograd.grad_mode.set_grad_enabled at 0x7fdcadd7b160>"
      ]
     },
     "execution_count": 9,
     "metadata": {},
     "output_type": "execute_result"
    }
   ],
   "source": [
    "from seagul.rl.ars.ars_pipe import ars\n",
    "from seagul.nn import MLP\n",
    "from common import *\n",
    "from seagul.mesh import create_mesh, variation_dim, compute_meshdim\n",
    "import scipy.optimize as opt\n",
    "import torch\n",
    "import matplotlib.pyplot as plt\n",
    "import time\n",
    "import copy\n",
    "import gym\n",
    "import torch\n",
    "\n",
    "import xarray as xr\n",
    "import numpy as np\n",
    "import pandas as pd\n",
    "\n",
    "import os\n",
    "\n",
    "from mujoco_py.generated import const\n",
    "from PIL import Image\n",
    "torch.autograd.set_grad_enabled(False)"
   ]
  },
  {
   "cell_type": "code",
   "execution_count": 12,
   "metadata": {},
   "outputs": [],
   "source": [
    "env_name = \"HalfCheetah-v2\"\n",
    "post_name = 'identity'\n",
    "seed = 1\n",
    "save_dir = f'./images/{env_name}_{post_name}_{seed}/'\n",
    "\n",
    "\n",
    "data = torch.load(f\"./data_mcshdim4/{env_name}.xr\")\n",
    "policy_dict = data.policy_dict\n",
    "\n",
    "data = torch.load(f\"./data17/{env_name}.xr\")\n",
    "policy_dict['identity'] = data.policy_dict['identity']"
   ]
  },
  {
   "cell_type": "code",
   "execution_count": 5,
   "metadata": {},
   "outputs": [
    {
     "name": "stdout",
     "output_type": "stream",
     "text": [
      "Creating window glfw\n"
     ]
    },
    {
     "data": {
      "text/plain": [
       "<torch.autograd.grad_mode.set_grad_enabled at 0x7f9ff0c8ac18>"
      ]
     },
     "execution_count": 5,
     "metadata": {},
     "output_type": "execute_result"
    }
   ],
   "source": [
    "run_seed = 461649783\n",
    "\n",
    "policy = policy_dict[post_name][seed]\n",
    "\n",
    "act_list = []\n",
    "obs_list = []\n",
    "rew_list = []\n",
    "\n",
    "dtype = torch.float32\n",
    "done = False\n",
    "#   cur_step = 0\n",
    "\n",
    "env = gym.make(env_name)\n",
    "\n",
    "env.seed(int(run_seed))\n",
    "obs = env.reset()\n",
    "\n",
    "while not done:\n",
    "    obs = torch.as_tensor(obs, dtype=dtype).detach()\n",
    "    obs_list.append(obs.clone())\n",
    "\n",
    "    act = policy(obs).detach()\n",
    "    obs, rew, done, _ = env.step(act.numpy())\n",
    "\n",
    "\n",
    " \n",
    "    env.render()\n",
    "    time.sleep(.01)\n",
    "\n",
    "\n",
    "    act_list.append(torch.as_tensor(act.clone()))\n",
    "    rew_list.append(rew)\n",
    "\n",
    "    #cur_step += 1\n",
    "\n",
    "ep_length = len(rew_list)\n",
    "ep_obs = torch.stack(obs_list)\n",
    "ep_act = torch.stack(act_list)\n",
    "ep_rew = torch.tensor(rew_list, dtype=dtype)\n",
    "ep_rew = ep_rew.reshape(-1, 1)\n",
    "\n",
    "torch.autograd.set_grad_enabled(True)"
   ]
  },
  {
   "cell_type": "code",
   "execution_count": 16,
   "metadata": {},
   "outputs": [],
   "source": [
    "#run_seed = 1484414988\n",
    "#run_seed = 1937481142\n",
    "for post_name in ['identity', 'mdim_div']:\n",
    "    save_dir = f'./images/{env_name}_{post_name}_{seed}/'\n",
    "\n",
    "    #run_seed = 461649783 # cheetah fall\n",
    "    policy = policy_dict[post_name][seed]\n",
    "\n",
    "    torch.autograd.set_grad_enabled(False)\n",
    "\n",
    "    act_list = []\n",
    "    obs_list = []\n",
    "    rew_list = []\n",
    "\n",
    "    dtype = torch.float32\n",
    "    done = False\n",
    "    cur_step = 0\n",
    "\n",
    "    env = gym.make(env_name)\n",
    "    env.seed(run_seed)\n",
    "    obs = env.reset()\n",
    "    env.render(mode='rgb_array')\n",
    "\n",
    "    env.unwrapped.viewer.cam.type = const.CAMERA_FIXED\n",
    "    env.unwrapped.viewer.cam.fixedcamid+=1\n",
    "\n",
    "    os.makedirs(save_dir, exist_ok=True)\n",
    "    while not done:\n",
    "        obs = torch.as_tensor(obs, dtype=dtype)\n",
    "        obs_list.append(obs.clone())\n",
    "\n",
    "        act = policy(obs).detach()\n",
    "        obs, rew, done, _ = env.step(act.numpy())\n",
    "\n",
    "        imarr = env.render(mode='rgb_array')\n",
    "        im = Image.fromarray(imarr)\n",
    "        im.save(save_dir + str(cur_step) + \".png\")\n",
    "\n",
    "\n",
    "        act_list.append(torch.as_tensor(act.clone()))\n",
    "        rew_list.append(rew)\n",
    "\n",
    "        cur_step += 1\n",
    "\n",
    "    ep_length = len(rew_list)\n",
    "    ep_obs = torch.stack(obs_list)\n",
    "    ep_act = torch.stack(act_list)\n",
    "    ep_rew = torch.tensor(rew_list, dtype=dtype)\n",
    "    ep_rew = ep_rew.reshape(-1, 1)\n",
    "\n",
    "    torch.autograd.set_grad_enabled(True)\n",
    "    import cv2\n",
    "    import os\n",
    "\n",
    "    image_folder = save_dir\n",
    "    video_name = save_dir + f'{env_name}_{post_name}_{seed}_{run_seed}.mp4'\n",
    "\n",
    "    images = sorted([img for img in os.listdir(image_folder) if img.endswith(\".png\")], key = lambda x: int(x.split(\".\")[0]))\n",
    "    frame = cv2.imread(os.path.join(image_folder, images[0]))\n",
    "    height, width, layers = frame.shape\n",
    "\n",
    "    #video = cv2.VideoWriter(video_name, 0, 1, (width,height))\n",
    "    video = cv2.VideoWriter(video_name, cv2.VideoWriter_fourcc(*'MP4V'), 30, (width,height))\n",
    "\n",
    "    for image in images:\n",
    "        video.write(cv2.imread(os.path.join(image_folder, image)))\n",
    "\n",
    "    cv2.destroyAllWindows()\n",
    "    video.release()"
   ]
  },
  {
   "cell_type": "code",
   "execution_count": 4,
   "metadata": {},
   "outputs": [],
   "source": []
  },
  {
   "cell_type": "code",
   "execution_count": 13,
   "metadata": {},
   "outputs": [
    {
     "ename": "KeyboardInterrupt",
     "evalue": "",
     "output_type": "error",
     "traceback": [
      "\u001b[0;31m---------------------------------------------------------------------------\u001b[0m",
      "\u001b[0;31mKeyboardInterrupt\u001b[0m                         Traceback (most recent call last)",
      "\u001b[0;32m~/miniconda3/envs/baselines2/lib/python3.6/site-packages/mujoco_py/generated/wrappers.pxi\u001b[0m in \u001b[0;36mmujoco_py.cymj._wrap_mjtNum_1d\u001b[0;34m()\u001b[0m\n",
      "\u001b[0;32m~/miniconda3/envs/baselines2/lib/python3.6/site-packages/numpy/core/numeric.py\u001b[0m in \u001b[0;36masarray\u001b[0;34m(a, dtype, order)\u001b[0m\n\u001b[1;32m    467\u001b[0m \u001b[0;34m\u001b[0m\u001b[0m\n\u001b[1;32m    468\u001b[0m \u001b[0;34m\u001b[0m\u001b[0m\n\u001b[0;32m--> 469\u001b[0;31m \u001b[0;34m@\u001b[0m\u001b[0mset_module\u001b[0m\u001b[0;34m(\u001b[0m\u001b[0;34m'numpy'\u001b[0m\u001b[0;34m)\u001b[0m\u001b[0;34m\u001b[0m\u001b[0;34m\u001b[0m\u001b[0m\n\u001b[0m\u001b[1;32m    470\u001b[0m \u001b[0;32mdef\u001b[0m \u001b[0masarray\u001b[0m\u001b[0;34m(\u001b[0m\u001b[0ma\u001b[0m\u001b[0;34m,\u001b[0m \u001b[0mdtype\u001b[0m\u001b[0;34m=\u001b[0m\u001b[0;32mNone\u001b[0m\u001b[0;34m,\u001b[0m \u001b[0morder\u001b[0m\u001b[0;34m=\u001b[0m\u001b[0;32mNone\u001b[0m\u001b[0;34m)\u001b[0m\u001b[0;34m:\u001b[0m\u001b[0;34m\u001b[0m\u001b[0;34m\u001b[0m\u001b[0m\n\u001b[1;32m    471\u001b[0m     \"\"\"Convert the input to an array.\n",
      "\u001b[0;31mKeyboardInterrupt\u001b[0m: "
     ]
    },
    {
     "name": "stderr",
     "output_type": "stream",
     "text": [
      "Exception ignored in: 'mujoco_py.cymj.PyMjData._set'\n",
      "Traceback (most recent call last):\n",
      "  File \"mujoco_py/generated/wrappers.pxi\", line 4727, in mujoco_py.cymj._wrap_mjtNum_1d\n",
      "  File \"/home/sgillen/miniconda3/envs/baselines2/lib/python3.6/site-packages/numpy/core/numeric.py\", line 469, in asarray\n",
      "    @set_module('numpy')\n",
      "KeyboardInterrupt\n"
     ]
    }
   ],
   "source": [
    "for run_seed in np.random.randint(0,2**32-1,size=(1000,)):\n",
    "\n",
    "    policy = policy_dict[post_name][seed]\n",
    "\n",
    "    act_list = []\n",
    "    obs_list = []\n",
    "    rew_list = []\n",
    "\n",
    "    dtype = torch.float32\n",
    "    done = False\n",
    " #   cur_step = 0\n",
    "\n",
    "    env = gym.make(env_name)\n",
    "\n",
    "    env.seed(int(run_seed))\n",
    "    obs = env.reset()\n",
    "\n",
    "    for cur_step in range(100):\n",
    "        obs = torch.as_tensor(obs, dtype=dtype).detach()\n",
    "        obs_list.append(obs.clone())\n",
    "\n",
    "        act = policy(obs).detach()\n",
    "        obs, rew, done, _ = env.step(act.numpy())\n",
    "\n",
    "\n",
    "        if not (-1 < obs[1] < 1):\n",
    "            print(run_seed)\n",
    "            #env.render()\n",
    "\n",
    "\n",
    "        #env.render()\n",
    "        #time.sleep(.01)\n",
    "\n",
    "\n",
    "        act_list.append(torch.as_tensor(act.clone()))\n",
    "        rew_list.append(rew)\n",
    "\n",
    "        #cur_step += 1\n",
    "\n",
    "    ep_length = len(rew_list)\n",
    "    ep_obs = torch.stack(obs_list)\n",
    "    ep_act = torch.stack(act_list)\n",
    "    ep_rew = torch.tensor(rew_list, dtype=dtype)\n",
    "    ep_rew = ep_rew.reshape(-1, 1)\n",
    "\n",
    "    torch.autograd.set_grad_enabled(True)"
   ]
  },
  {
   "cell_type": "code",
   "execution_count": null,
   "metadata": {},
   "outputs": [],
   "source": []
  }
 ],
 "metadata": {
  "kernelspec": {
   "display_name": "Baselines 2",
   "language": "python",
   "name": "baselines2"
  },
  "language_info": {
   "codemirror_mode": {
    "name": "ipython",
    "version": 3
   },
   "file_extension": ".py",
   "mimetype": "text/x-python",
   "name": "python",
   "nbconvert_exporter": "python",
   "pygments_lexer": "ipython3",
   "version": "3.6.8"
  }
 },
 "nbformat": 4,
 "nbformat_minor": 4
}
