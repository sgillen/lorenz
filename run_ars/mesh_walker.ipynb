{
 "cells": [
  {
   "cell_type": "code",
   "execution_count": 3,
   "metadata": {},
   "outputs": [
    {
     "ename": "ImportError",
     "evalue": "cannot import name 'create_mesh_dict'",
     "output_type": "error",
     "traceback": [
      "\u001b[0;31m---------------------------------------------------------------------------\u001b[0m",
      "\u001b[0;31mImportError\u001b[0m                               Traceback (most recent call last)",
      "\u001b[0;32m<ipython-input-3-79a475883ac3>\u001b[0m in \u001b[0;36m<module>\u001b[0;34m\u001b[0m\n\u001b[1;32m      3\u001b[0m \u001b[0;32mimport\u001b[0m \u001b[0mtorch\u001b[0m\u001b[0;34m\u001b[0m\u001b[0;34m\u001b[0m\u001b[0m\n\u001b[1;32m      4\u001b[0m \u001b[0;32mimport\u001b[0m \u001b[0mmatplotlib\u001b[0m\u001b[0;34m.\u001b[0m\u001b[0mpyplot\u001b[0m \u001b[0;32mas\u001b[0m \u001b[0mplt\u001b[0m\u001b[0;34m\u001b[0m\u001b[0;34m\u001b[0m\u001b[0m\n\u001b[0;32m----> 5\u001b[0;31m \u001b[0;32mfrom\u001b[0m \u001b[0mseagul\u001b[0m\u001b[0;34m.\u001b[0m\u001b[0mmesh\u001b[0m \u001b[0;32mimport\u001b[0m \u001b[0mcreate_mesh\u001b[0m\u001b[0;34m,\u001b[0m \u001b[0mvariation_dim\u001b[0m\u001b[0;34m,\u001b[0m \u001b[0mmesh_dim\u001b[0m\u001b[0;34m,\u001b[0m \u001b[0mcreate_mesh_dict\u001b[0m\u001b[0;34m,\u001b[0m \u001b[0mBylMesh\u001b[0m\u001b[0;34m\u001b[0m\u001b[0;34m\u001b[0m\u001b[0m\n\u001b[0m\u001b[1;32m      6\u001b[0m \u001b[0;32mimport\u001b[0m \u001b[0mtime\u001b[0m\u001b[0;34m\u001b[0m\u001b[0;34m\u001b[0m\u001b[0m\n\u001b[1;32m      7\u001b[0m \u001b[0;32mimport\u001b[0m \u001b[0mcopy\u001b[0m\u001b[0;34m\u001b[0m\u001b[0;34m\u001b[0m\u001b[0m\n",
      "\u001b[0;31mImportError\u001b[0m: cannot import name 'create_mesh_dict'"
     ]
    }
   ],
   "source": [
    "from seagul.rl.ars.ars_pipe import ars\n",
    "from seagul.nn import MLP\n",
    "import torch\n",
    "import matplotlib.pyplot as plt\n",
    "from seagul.mesh import create_mesh, variation_dim, mesh_dim, create_mesh_dict, BylMesh\n",
    "import time\n",
    "import copy\n",
    "import gym\n",
    "\n",
    "\n",
    "import xarray as xr\n",
    "import numpy as np\n",
    "import pandas as pd\n",
    "\n",
    "import os\n",
    "\n",
    "from sklearn.decomposition import PCA"
   ]
  },
  {
   "cell_type": "code",
   "execution_count": 4,
   "metadata": {},
   "outputs": [],
   "source": [
    "def identity(rews,obs,acts):\n",
    "    return rews\n",
    "\n",
    "def vardiv(rews, obs, acts):\n",
    "    return rews/variation_dim(obs)\n",
    "\n",
    "def varmul(rews, obs, acts):\n",
    "    return rews*variation_dim(obs)\n",
    "\n",
    "def rough_measure(x):\n",
    "    d = torch.stack([x[t,:] - x[t-1,:] for t in range(1,x.shape[0])])\n",
    "    return d.std()#$/(torch.abs(d.mean()))\n",
    "\n",
    "def rmul(rews, obs, acts):\n",
    "    return rews*rough_measure(obs)\n",
    "\n",
    "def rdiv(rews, obs, acts):\n",
    "    return rews/rough_measure(obs)\n",
    "\n",
    "def pcastd(rews, obs, acts):\n",
    "    pca = PCA()\n",
    "    pca.fit((obs - obs.mean())/obs.std())\n",
    "    return rews*pca.explained_variance_ratio_.std()\n",
    "\n",
    "\n",
    "def do_rollout(env, policy, render=False):\n",
    "    torch.autograd.set_grad_enabled(False)\n",
    "\n",
    "    act_list = []\n",
    "    obs_list = []\n",
    "    rew_list = []\n",
    "\n",
    "    dtype = torch.float32\n",
    "    obs = env.reset()\n",
    "    done = False\n",
    "    cur_step = 0\n",
    "\n",
    "    while not done:\n",
    "        obs = torch.as_tensor(obs, dtype=dtype).detach()\n",
    "        obs_list.append(obs.clone())\n",
    "\n",
    "        act = policy(obs)\n",
    "        obs, rew, done, _ = env.step(act.numpy())\n",
    "        if render:\n",
    "            env.render()\n",
    "            input(\"step?\")\n",
    "            #time.sleep(.05)\n",
    "\n",
    "        act_list.append(torch.as_tensor(act.clone()))\n",
    "        rew_list.append(rew)\n",
    "\n",
    "        cur_step += 1\n",
    "\n",
    "    ep_length = len(rew_list)\n",
    "    ep_obs = torch.stack(obs_list)\n",
    "    ep_act = torch.stack(act_list)\n",
    "    ep_rew = torch.tensor(rew_list, dtype=dtype)\n",
    "    ep_rew = ep_rew.reshape(-1, 1)\n",
    "\n",
    "    torch.autograd.set_grad_enabled(True)\n",
    "    return ep_obs, ep_act, ep_rew, ep_length\n",
    "\n",
    "\n",
    "def do_long_rollout(env, policy, ep_length):\n",
    "    torch.autograd.set_grad_enabled(False)\n",
    "\n",
    "    act_list = []\n",
    "    obs_list = []\n",
    "    rew_list = []\n",
    "\n",
    "    dtype = torch.float32\n",
    "    obs = env.reset()\n",
    "    done = False\n",
    "    cur_step = 0\n",
    "\n",
    "    while cur_step < ep_length:\n",
    "        obs = torch.as_tensor(obs, dtype=dtype).detach()\n",
    "        obs_list.append(obs.clone())\n",
    "\n",
    "        act = policy(obs)\n",
    "        obs, rew, done, _ = env.step(act.numpy())\n",
    "\n",
    "        act_list.append(torch.as_tensor(act.clone()))\n",
    "        rew_list.append(rew)\n",
    "\n",
    "        cur_step += 1\n",
    "\n",
    "    ep_length = len(rew_list)\n",
    "    ep_obs = torch.stack(obs_list)\n",
    "    ep_act = torch.stack(act_list)\n",
    "    ep_rew = torch.tensor(rew_list, dtype=dtype)\n",
    "    ep_rew = ep_rew.reshape(-1, 1)\n",
    "\n",
    "    torch.autograd.set_grad_enabled(True)\n",
    "    return ep_obs, ep_act, ep_rew, ep_length"
   ]
  },
  {
   "cell_type": "code",
   "execution_count": null,
   "metadata": {},
   "outputs": [],
   "source": [
    "data = torch.load(\"./data5/Walker2d-v2.xr\")\n",
    "\n",
    "policy_dict = data.policy_dict\n",
    "rews = data.rews\n",
    "exp_names = [fn.__name__ for fn in data.attrs['post_fns']]\n",
    "num_seeds = len(policy_dict['identity'])\n",
    "\n",
    "#policy_dict = torch.load(\"./data/mjw_longermul.pol_dict\")\n",
    "#rews = torch.load(\"./data/mjw_longermul.data\")\n",
    "\n",
    "means = rews.mean(dim=\"trial\")\n",
    "stds = rews.std(dim=\"trial\")\n",
    "\n",
    "plt.plot(means.T)\n",
    "plt.legend(exp_names)\n",
    "ci = stds\n",
    "\n",
    "for mean, c in zip(means, ci):\n",
    "    plt.fill_between([t for t in range(len(mean))], (mean-c), (mean+c), alpha=.5)\n",
    "plt.title(\"\\\"True\\\" Reward\")\n",
    "plt.figure()\n",
    "\n",
    "for exp_name in exp_names:  \n",
    "    plt.plot(rews.loc[exp_name].T)\n",
    "    plt.title(exp_name)\n",
    "    plt.figure()"
   ]
  },
  {
   "cell_type": "code",
   "execution_count": null,
   "metadata": {},
   "outputs": [],
   "source": [
    "env_name = \"Walker2d-v2\"\n",
    "r_thresh = 3000\n",
    "num_runs = 1\n",
    "post_fns = [identity, vardiv]\n",
    "working_seeds = {fn.__name__: [] for fn in post_fns}\n",
    "\n",
    "env = gym.make(env_name)\n",
    "#%time o,a,r,l = do_long_rollout(env, policy, ep_length= 10000)\n",
    "for post_fn in post_fns:\n",
    "    for i in range(num_seeds):\n",
    "        for j in range(num_runs):\n",
    "            policy = policy_dict[post_fn.__name__][i]\n",
    "            o,a,r,l = do_rollout(env, policy)\n",
    "            if sum(r) > r_thresh:\n",
    "                working_seeds[post_fn.__name__].append(i)"
   ]
  },
  {
   "cell_type": "code",
   "execution_count": null,
   "metadata": {},
   "outputs": [],
   "source": [
    "# HalfCheetah-v2\n",
    "def walker_reset(env, point):\n",
    "    env.reset()\n",
    "    qpos = np.concatenate((np.array([0.0]), point[:8]))\n",
    "    qvel = point[8:]\n",
    "    env.unwrapped.set_state(qpos, qvel)\n",
    "    return env.unwrapped._get_obs()\n",
    "\n",
    "def walker_snapshot(o, last_o, step):\n",
    "    return (o[3] > .5 and o[12] < 0.0 and last_o[12] > 0.0 and step > 7)\n",
    "\n",
    "def walker_interp(o, last_o):\n",
    "    m = o[12] - last_o[12]\n",
    "    b = last_o[12]\n",
    "    tcross = -b / m\n",
    "    return last_o + tcross * (o - last_o)"
   ]
  },
  {
   "cell_type": "code",
   "execution_count": 2,
   "metadata": {},
   "outputs": [
    {
     "ename": "NameError",
     "evalue": "name 'policy_dict' is not defined",
     "output_type": "error",
     "traceback": [
      "\u001b[0;31m---------------------------------------------------------------------------\u001b[0m",
      "\u001b[0;31mNameError\u001b[0m                                 Traceback (most recent call last)",
      "\u001b[0;32m<ipython-input-2-cf4f02fabd88>\u001b[0m in \u001b[0;36m<module>\u001b[0;34m\u001b[0m\n\u001b[1;32m      1\u001b[0m \u001b[0menv_name\u001b[0m \u001b[0;34m=\u001b[0m \u001b[0;34m\"Walker2d-v2\"\u001b[0m\u001b[0;34m\u001b[0m\u001b[0;34m\u001b[0m\u001b[0m\n\u001b[1;32m      2\u001b[0m \u001b[0;34m\u001b[0m\u001b[0m\n\u001b[0;32m----> 3\u001b[0;31m \u001b[0mpolicy\u001b[0m \u001b[0;34m=\u001b[0m \u001b[0mpolicy_dict\u001b[0m\u001b[0;34m[\u001b[0m\u001b[0;34m'vardiv'\u001b[0m\u001b[0;34m]\u001b[0m\u001b[0;34m[\u001b[0m\u001b[0;36m19\u001b[0m\u001b[0;34m]\u001b[0m\u001b[0;34m\u001b[0m\u001b[0;34m\u001b[0m\u001b[0m\n\u001b[0m\u001b[1;32m      4\u001b[0m \u001b[0menv\u001b[0m \u001b[0;34m=\u001b[0m \u001b[0mgym\u001b[0m\u001b[0;34m.\u001b[0m\u001b[0mmake\u001b[0m\u001b[0;34m(\u001b[0m\u001b[0menv_name\u001b[0m\u001b[0;34m)\u001b[0m\u001b[0;34m\u001b[0m\u001b[0;34m\u001b[0m\u001b[0m\n\u001b[1;32m      5\u001b[0m \u001b[0mobs\u001b[0m\u001b[0;34m,\u001b[0m\u001b[0macts\u001b[0m\u001b[0;34m,\u001b[0m\u001b[0mrews\u001b[0m\u001b[0;34m,\u001b[0m\u001b[0ml\u001b[0m \u001b[0;34m=\u001b[0m \u001b[0mdo_long_rollout\u001b[0m\u001b[0;34m(\u001b[0m\u001b[0menv\u001b[0m\u001b[0;34m,\u001b[0m \u001b[0mpolicy\u001b[0m\u001b[0;34m,\u001b[0m \u001b[0mep_length\u001b[0m\u001b[0;34m=\u001b[0m \u001b[0;36m1000\u001b[0m\u001b[0;34m)\u001b[0m\u001b[0;34m\u001b[0m\u001b[0;34m\u001b[0m\u001b[0m\n",
      "\u001b[0;31mNameError\u001b[0m: name 'policy_dict' is not defined"
     ]
    }
   ],
   "source": [
    "env_name = \"Walker2d-v2\"\n",
    "\n",
    "policy = policy_dict['vardiv'][19]\n",
    "env = gym.make(env_name)\n",
    "obs,acts,rews,l = do_long_rollout(env, policy, ep_length= 1000)\n",
    "#o,a,r,l = do_rollout(env, policy, render=True)\n",
    "\n",
    "on = np.zeros(obs.shape[0])\n",
    "for i,o in enumerate(obs):\n",
    "    on[i] = (o[7] < 0.0 and o[16] > 0.0 and last_o[12] < 0.0)\n",
    "    last_o = copy.deepcopy(o)\n",
    "\n",
    "print(\"cycles found: \", sum(on))\n",
    "\n",
    "start_idx = 100; end_idx = 150\n",
    "plt.plot(obs)\n",
    "plt.plot(on*35)\n",
    "\n",
    "plt.figure()\n",
    "plt.plot(obs[start_idx:end_idx])\n",
    "plt.plot(on[start_idx:end_idx]*35)\n",
    "plt.figure()\n",
    "ref = np.array(obs[start_idx:end_idx],dtype=np.float64)\n",
    "target = (ref - ref.mean(axis=0))/ref.std(axis=0)\n",
    "target = copy.deepcopy(target) # Don't even ask\n",
    "plt.plot(target)\n",
    "plt.figure()"
   ]
  },
  {
   "cell_type": "code",
   "execution_count": 69,
   "metadata": {},
   "outputs": [
    {
     "name": "stdout",
     "output_type": "stream",
     "text": [
      "spacing:  16  frequency:  1\n",
      "spacing:  1  frequency:  71\n",
      "spacing:  103  frequency:  1\n",
      "spacing:  47  frequency:  1\n",
      "spacing:  29  frequency:  8\n",
      "spacing:  41  frequency:  7\n",
      "spacing:  30  frequency:  1\n",
      "spacing:  42  frequency:  2\n",
      "spacing:  28  frequency:  2\n",
      "spacing:  40  frequency:  1\n"
     ]
    }
   ],
   "source": [
    "dl = []\n",
    "last_seen = 0\n",
    "for i,o in enumerate(on):\n",
    "    if o == 1:\n",
    "        dl.append(i-last_seen)\n",
    "        last_seen = i\n",
    "        \n",
    "dd = {}\n",
    "for d in dl:\n",
    "    if (d) in dd: \n",
    "        dd[(d)] += 1\n",
    "    else:\n",
    "        dd[(d)] = 1\n",
    "        \n",
    "for thing in dd.items():\n",
    "    print(\"spacing: \", thing[0], \" frequency: \", thing[1])"
   ]
  },
  {
   "cell_type": "code",
   "execution_count": null,
   "metadata": {},
   "outputs": [],
   "source": [
    "from seagul.mesh import create_mesh_act\n",
    "\n",
    "perts =  np.random.uniform(-.1,.1,(10,6))\n",
    "#perts = np.zeros((100,17))\n",
    "\n",
    "o = env.reset()\n",
    "last_o = copy.copy(o)\n",
    "\n",
    "step = 0\n",
    "done=False\n",
    "ol = [] \n",
    "while not done:\n",
    "    a = policy(o).detach(); step+=1\n",
    "    o, r, done, _ = env.step(a.numpy())\n",
    "    if cheetah_snapshot(o, last_o, step) and step > 100:\n",
    "        seed_point = o\n",
    "        done=True\n",
    "    last_o = copy.copy(o)\n",
    "\n",
    "print(seed_point)\n",
    "mesh, mesh_points, T = create_mesh_act(env, policy, .5, seed_point, perts, cheetah_reset, cheetah_snapshot, cheetah_interp, ref.mean(axis=0), ref.std(axis=0))"
   ]
  },
  {
   "cell_type": "code",
   "execution_count": null,
   "metadata": {},
   "outputs": [],
   "source": [
    "failure_point = np.ones_like(seed_point)*10\n",
    "print(mesh[failure_point].freq)\n",
    "print(len(mesh))\n",
    "print(len(mesh_points))"
   ]
  },
  {
   "cell_type": "code",
   "execution_count": null,
   "metadata": {},
   "outputs": [],
   "source": [
    "from scipy import sparse \n",
    "Ts = sparse.lil_matrix((T.shape[0], T.shape[0]))\n",
    "for i,t in enumerate(T):\n",
    "    #print(i)\n",
    "    for e in t:\n",
    "        Ts[i,e-1] += 1/len(t)\n",
    "    "
   ]
  },
  {
   "cell_type": "code",
   "execution_count": null,
   "metadata": {},
   "outputs": [],
   "source": [
    "w,v = sparse.linalg.eigs(Ts,k=2)"
   ]
  },
  {
   "cell_type": "code",
   "execution_count": null,
   "metadata": {},
   "outputs": [],
   "source": [
    "w"
   ]
  },
  {
   "cell_type": "code",
   "execution_count": null,
   "metadata": {},
   "outputs": [],
   "source": [
    "v.shape"
   ]
  },
  {
   "cell_type": "code",
   "execution_count": null,
   "metadata": {},
   "outputs": [],
   "source": [
    "T"
   ]
  },
  {
   "cell_type": "code",
   "execution_count": null,
   "metadata": {},
   "outputs": [],
   "source": []
  }
 ],
 "metadata": {
  "kernelspec": {
   "display_name": "Baselines (3.6)",
   "language": "python",
   "name": "baselines"
  },
  "language_info": {
   "codemirror_mode": {
    "name": "ipython",
    "version": 3
   },
   "file_extension": ".py",
   "mimetype": "text/x-python",
   "name": "python",
   "nbconvert_exporter": "python",
   "pygments_lexer": "ipython3",
   "version": "3.6.8"
  }
 },
 "nbformat": 4,
 "nbformat_minor": 4
}
